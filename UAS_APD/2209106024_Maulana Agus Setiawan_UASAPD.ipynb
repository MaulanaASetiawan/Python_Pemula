{
 "cells": [
  {
   "cell_type": "markdown",
   "id": "129740de",
   "metadata": {},
   "source": [
    "## UAS Algoritma dan Pemrograman Dasar"
   ]
  },
  {
   "cell_type": "markdown",
   "id": "9106353d",
   "metadata": {},
   "source": [
    "Nama  > Maulana Agus Setiawan\\\n",
    "NIM   > 2209106024\\\n",
    "Kelas > Informatika A'2022"
   ]
  },
  {
   "cell_type": "code",
   "execution_count": null,
   "id": "7960cf5f",
   "metadata": {},
   "outputs": [],
   "source": [
    "import pandas as pd\n",
    "import matplotlib.pyplot as plt"
   ]
  },
  {
   "cell_type": "markdown",
   "id": "9be83ce7",
   "metadata": {},
   "source": [
    "#### 1.) Membaca File 'pemasukan barang.csv'"
   ]
  },
  {
   "cell_type": "code",
   "execution_count": null,
   "id": "5db0515b",
   "metadata": {},
   "outputs": [],
   "source": [
    "df = pd.read_csv('pemasukan barang.csv')"
   ]
  },
  {
   "cell_type": "markdown",
   "id": "738d4a1f",
   "metadata": {},
   "source": [
    "#### 2.) Menampilkan 5 Data terakhir"
   ]
  },
  {
   "cell_type": "code",
   "execution_count": null,
   "id": "d8122193",
   "metadata": {},
   "outputs": [],
   "source": [
    "df.tail()"
   ]
  },
  {
   "cell_type": "markdown",
   "id": "ea670930",
   "metadata": {},
   "source": [
    "#### 3.) Menampilkan semua Data\n",
    "- max_rows dibuat (None) agar tidak ada batasan"
   ]
  },
  {
   "cell_type": "code",
   "execution_count": null,
   "id": "e645230e",
   "metadata": {},
   "outputs": [],
   "source": [
    "pd.options.display.max_rows = None\n",
    "df"
   ]
  },
  {
   "cell_type": "markdown",
   "id": "39ab4356",
   "metadata": {},
   "source": [
    "#### 4.) Menampilkan Tipe Data di tiap kolom"
   ]
  },
  {
   "cell_type": "code",
   "execution_count": null,
   "id": "ddafc612",
   "metadata": {},
   "outputs": [],
   "source": [
    "df.dtypes"
   ]
  },
  {
   "cell_type": "markdown",
   "id": "ef4e1703",
   "metadata": {},
   "source": [
    "#### 5.) Menampilkan berapa banyak record dikelompokkan berdasarkan nama barang dalam file tersebut.\n",
    "- Menggunakan .size() untuk mengambil jumlah elemen yg ada di nama barang\n",
    "- Menggunakan .reset_index(name=jumlah) untuk memberikan No/Index, dan memberikan nama kolom pada jumlah barang yang dikelompokkan"
   ]
  },
  {
   "cell_type": "code",
   "execution_count": null,
   "id": "3edb4b9b",
   "metadata": {},
   "outputs": [],
   "source": [
    "df.groupby('namabarang').size().reset_index(name='jumlah')"
   ]
  },
  {
   "cell_type": "markdown",
   "id": "3c046c3e",
   "metadata": {},
   "source": [
    "#### 6.) Menampilkan berapa jumlah harga berdasarkan nama barang\n",
    "- Menggunakan .sum() untuk menjumlahkan harga\n",
    "- menggunakan .reset_index(name='Total) untuk memberikan No/Index, dan memberikan nama kolom pada total harga barang yang dikelompokkan"
   ]
  },
  {
   "cell_type": "code",
   "execution_count": null,
   "id": "afde035a",
   "metadata": {},
   "outputs": [],
   "source": [
    "df.groupby(['namabarang'])['harga'].sum().reset_index(name='Total')"
   ]
  },
  {
   "cell_type": "markdown",
   "id": "72a7203e",
   "metadata": {},
   "source": [
    "#### 7.) Menampilkan group data berdasarkan bulan\n",
    "- conv = mengkonversi ke datetime, dengan format bulan,hari, tahun\n",
    "- month = membuat variable conv menggunakan atribut datetime, dengan format Bulan\n",
    "- year = membuat variable conv menggunakan atribut datetime, dengan format Tahun\n",
    "- .apply(display) = apply untuk menerapkan fungsi di sepanjang sumbu DataFrame, dan display digunakan agar tampilan berbentuk kolom"
   ]
  },
  {
   "cell_type": "code",
   "execution_count": null,
   "id": "6d69f3b0",
   "metadata": {},
   "outputs": [],
   "source": [
    "conv = pd.to_datetime(df['tanggal'], format=\"%m/%d/%Y\")\n",
    "month = conv.dt.month\n",
    "year = conv.dt.year\n",
    "df.groupby([year,month]).apply(display)"
   ]
  },
  {
   "cell_type": "markdown",
   "id": "f6413c7d",
   "metadata": {},
   "source": [
    "#### 8.) Menampilkna Grafik batang berdasarkan soal no.4\n",
    "- .plot.bar(color='green) = metode untuk membuat diagram batang, lalu diberikan warna diagramnya berwarna hijau\n",
    "- plt.title = memberikan label/nama diagram yang dibuat\n",
    "- plt.ylabel() = memberikan label / nama di sumbu y\n",
    "- plt.show() = untuk menampilkan diagram"
   ]
  },
  {
   "cell_type": "code",
   "execution_count": null,
   "id": "b1d8d58b",
   "metadata": {},
   "outputs": [],
   "source": [
    "df.groupby('namabarang').size().plot.bar(color = 'green',)\n",
    "plt.title(\"Jumlah Tiap Barang\")\n",
    "plt.ylabel(\"Jumlah\")\n",
    "plt.show()"
   ]
  },
  {
   "cell_type": "markdown",
   "id": "e6a3bbb4",
   "metadata": {},
   "source": [
    "#### 9.) Menampilkan Grafik garis / line pemasukkan barang per bulan. Pilih salah satu namabarang, Saya pilih Beras\n",
    "- df.loc = untuk mendapatkan nilai dari label yang ditentukan\\\n",
    "contohnya saya disini ingin mendapatkan nilai berupa beras, dari label/kolom namabarang, lalu di grouping berdasarkan bulan dan tahun untuk mendapatkan nilai berapa kali barang tersebut masuk/ada\n",
    "- rename_axis = untuk mengubah nama kolom yang digrouping\n",
    "- plt.ylabel = untuk memberikan nama di sumbu y"
   ]
  },
  {
   "cell_type": "code",
   "execution_count": null,
   "id": "afef51da",
   "metadata": {},
   "outputs": [],
   "source": [
    "conv = pd.to_datetime(df['tanggal'], format=\"%m/%d/%Y\")\n",
    "month = conv.dt.month\n",
    "year = conv.dt.year\n",
    "df.loc[df.namabarang == 'BERAS'].groupby([month,year]).size().rename_axis(['<Bulan>','<Tahun>']).plot(color = 'red')\n",
    "plt.ylabel(\"<Jumlah>\")\n",
    "plt.show()"
   ]
  },
  {
   "cell_type": "markdown",
   "id": "cdb32531",
   "metadata": {},
   "source": [
    "#### 10. Menampilkan Grafik Pie\n",
    "- startangle = untuk mengubah sudut awal dalam derajat\n",
    "- autopct = untuk menghitung persentase secara otomatis, yang saya gunakan adalah (1.1f%)\\\n",
    "hanya ada 1 angka dibelakang koma\n",
    "- shadow = untuk memberikan bayangan pada pie chart nya\n",
    "- plt.title = memberikan label/nama diagram yang dibuat\n",
    "- plt.figure(figsize=(11,11)) = untuk mengubah ukuran pie chart nya\n",
    "- plt.show() = untuk menampilkan diagram"
   ]
  },
  {
   "cell_type": "code",
   "execution_count": null,
   "id": "11a07f57",
   "metadata": {},
   "outputs": [],
   "source": [
    "df.groupby('namabarang').size().plot.pie(startangle=90, autopct='%1.1f%%', shadow=True)\n",
    "plt.title(\"Perbandingan Jumlah setiap Barang\")\n",
    "plt.figure(figsize=(11,11))\n",
    "plt.show()"
   ]
  }
 ],
 "metadata": {
  "kernelspec": {
   "display_name": "Python 3.11.0 64-bit",
   "language": "python",
   "name": "python3"
  },
  "language_info": {
   "codemirror_mode": {
    "name": "ipython",
    "version": 3
   },
   "file_extension": ".py",
   "mimetype": "text/x-python",
   "name": "python",
   "nbconvert_exporter": "python",
   "pygments_lexer": "ipython3",
   "version": "3.11.0"
  },
  "vscode": {
   "interpreter": {
    "hash": "a102108511efa21ed802a4d6fb0897992911ccdcd4294b6f89192478c830642b"
   }
  }
 },
 "nbformat": 4,
 "nbformat_minor": 5
}
